{
  "nbformat": 4,
  "nbformat_minor": 0,
  "metadata": {
    "colab": {
      "name": "Exploring_Gym.ipynb",
      "provenance": []
    },
    "kernelspec": {
      "name": "python3",
      "display_name": "Python 3"
    },
    "accelerator": "TPU"
  },
  "cells": [
    {
      "cell_type": "markdown",
      "metadata": {
        "id": "TWnme2Ad5Zjl",
        "colab_type": "text"
      },
      "source": [
        "For rendering environment, we can use pyvirtualdisplay."
      ]
    },
    {
      "cell_type": "code",
      "metadata": {
        "id": "sIFi4BdB5SlP",
        "colab_type": "code",
        "colab": {
          "base_uri": "https://localhost:8080/",
          "height": 207
        },
        "outputId": "283fb7a9-5757-4cd3-b298-950ebd50b822"
      },
      "source": [
        "!pip3 install pyvirtualdisplay\n",
        "!pip3 install piglet"
      ],
      "execution_count": 1,
      "outputs": [
        {
          "output_type": "stream",
          "text": [
            "Requirement already satisfied: pyvirtualdisplay in /usr/local/lib/python3.6/dist-packages (1.3.2)\n",
            "Requirement already satisfied: EasyProcess in /usr/local/lib/python3.6/dist-packages (from pyvirtualdisplay) (0.3)\n",
            "Requirement already satisfied: piglet in /usr/local/lib/python3.6/dist-packages (1.0.0)\n",
            "Requirement already satisfied: piglet-templates in /usr/local/lib/python3.6/dist-packages (from piglet) (1.0.0)\n",
            "Requirement already satisfied: Parsley in /usr/local/lib/python3.6/dist-packages (from piglet-templates->piglet) (1.3)\n",
            "Requirement already satisfied: markupsafe in /usr/local/lib/python3.6/dist-packages (from piglet-templates->piglet) (1.1.1)\n",
            "Requirement already satisfied: attrs in /usr/local/lib/python3.6/dist-packages (from piglet-templates->piglet) (19.3.0)\n",
            "Requirement already satisfied: astunparse in /usr/local/lib/python3.6/dist-packages (from piglet-templates->piglet) (1.6.3)\n",
            "Requirement already satisfied: six<2.0,>=1.6.1 in /usr/local/lib/python3.6/dist-packages (from astunparse->piglet-templates->piglet) (1.12.0)\n",
            "Requirement already satisfied: wheel<1.0,>=0.23.0 in /usr/local/lib/python3.6/dist-packages (from astunparse->piglet-templates->piglet) (0.34.2)\n"
          ],
          "name": "stdout"
        }
      ]
    },
    {
      "cell_type": "markdown",
      "metadata": {
        "id": "h4iqySsK5oX1",
        "colab_type": "text"
      },
      "source": [
        "To activate virtual display we need to run a script once for training an agent, as follows:"
      ]
    },
    {
      "cell_type": "code",
      "metadata": {
        "id": "z0VA65T55ni4",
        "colab_type": "code",
        "colab": {
          "base_uri": "https://localhost:8080/",
          "height": 34
        },
        "outputId": "bc4572c5-a759-4431-88ea-c7bf1c86d4c9"
      },
      "source": [
        "from pyvirtualdisplay import Display\n",
        "display = Display(visible=0, size=(1400, 900))\n",
        "display.start()"
      ],
      "execution_count": 2,
      "outputs": [
        {
          "output_type": "execute_result",
          "data": {
            "text/plain": [
              "<pyvirtualdisplay.display.Display at 0x7f7a67a04a58>"
            ]
          },
          "metadata": {
            "tags": []
          },
          "execution_count": 2
        }
      ]
    },
    {
      "cell_type": "code",
      "metadata": {
        "id": "P_rqXMtd7kIY",
        "colab_type": "code",
        "colab": {}
      },
      "source": [
        "# This code creates a virtual display to draw game images on. \n",
        "import os\n",
        "if type(os.environ.get(\"DISPLAY\")) is not str or len(os.environ.get(\"DISPLAY\"))==0:\n",
        "    !bash ../xvfb start\n",
        "    %env DISPLAY=:1"
      ],
      "execution_count": 3,
      "outputs": []
    },
    {
      "cell_type": "code",
      "metadata": {
        "id": "QMpVtBjqBdSE",
        "colab_type": "code",
        "colab": {}
      },
      "source": [
        "\"\"\"\n",
        "Utility functions to enable video recording of gym environment and displaying it\n",
        "To enable video, just do \"env = wrap_env(env)\"\"\n",
        "\"\"\"\n",
        "\n",
        "def show_video():\n",
        "  mp4list = glob.glob('video/*.mp4')\n",
        "  if len(mp4list) > 0:\n",
        "    mp4 = mp4list[0]\n",
        "    video = io.open(mp4, 'r+b').read()\n",
        "    encoded = base64.b64encode(video)\n",
        "    ipythondisplay.display(HTML(data='''<video alt=\"test\" autoplay \n",
        "                loop controls style=\"height: 400px;\">\n",
        "                <source src=\"data:video/mp4;base64,{0}\" type=\"video/mp4\" />\n",
        "             </video>'''.format(encoded.decode('ascii'))))\n",
        "  else: \n",
        "    print(\"Could not find video\")\n",
        "    \n",
        "\n",
        "def wrap_env(env):\n",
        "  env = Monitor(env, './video', force=True)\n",
        "  return env"
      ],
      "execution_count": 4,
      "outputs": []
    },
    {
      "cell_type": "markdown",
      "metadata": {
        "id": "4xRYDYx_CE7X",
        "colab_type": "text"
      },
      "source": [
        "To be able to use OpenAI Gym, we need a Python version > 3.5."
      ]
    },
    {
      "cell_type": "code",
      "metadata": {
        "id": "VaRUU9ZQotm7",
        "colab_type": "code",
        "colab": {
          "base_uri": "https://localhost:8080/",
          "height": 34
        },
        "outputId": "3175ba69-a029-4e80-da02-5bc01701f551"
      },
      "source": [
        "!python --version"
      ],
      "execution_count": 5,
      "outputs": [
        {
          "output_type": "stream",
          "text": [
            "Python 3.6.9\n"
          ],
          "name": "stdout"
        }
      ]
    },
    {
      "cell_type": "code",
      "metadata": {
        "id": "FavXQ-pAtC_J",
        "colab_type": "code",
        "colab": {
          "base_uri": "https://localhost:8080/",
          "height": 119
        },
        "outputId": "5682f563-c9ad-43db-adbb-a9a21c4197e5"
      },
      "source": [
        "!pip3 install gym"
      ],
      "execution_count": 5,
      "outputs": [
        {
          "output_type": "stream",
          "text": [
            "Requirement already satisfied: gym in /usr/local/lib/python3.6/dist-packages (0.17.2)\n",
            "Requirement already satisfied: numpy>=1.10.4 in /usr/local/lib/python3.6/dist-packages (from gym) (1.18.5)\n",
            "Requirement already satisfied: pyglet<=1.5.0,>=1.4.0 in /usr/local/lib/python3.6/dist-packages (from gym) (1.5.0)\n",
            "Requirement already satisfied: scipy in /usr/local/lib/python3.6/dist-packages (from gym) (1.4.1)\n",
            "Requirement already satisfied: cloudpickle<1.4.0,>=1.2.0 in /usr/local/lib/python3.6/dist-packages (from gym) (1.3.0)\n",
            "Requirement already satisfied: future in /usr/local/lib/python3.6/dist-packages (from pyglet<=1.5.0,>=1.4.0->gym) (0.16.0)\n"
          ],
          "name": "stdout"
        }
      ]
    },
    {
      "cell_type": "markdown",
      "metadata": {
        "id": "AAPYUnMl6jDl",
        "colab_type": "text"
      },
      "source": [
        "List the available environments."
      ]
    },
    {
      "cell_type": "code",
      "metadata": {
        "id": "6Yd0xLjh6gyt",
        "colab_type": "code",
        "colab": {
          "base_uri": "https://localhost:8080/",
          "height": 54
        },
        "outputId": "dafd5419-559c-459c-b614-98eb293185c6"
      },
      "source": [
        "from gym import envs\n",
        "print(envs.registry.all())"
      ],
      "execution_count": 6,
      "outputs": [
        {
          "output_type": "stream",
          "text": [
            "dict_values([EnvSpec(Copy-v0), EnvSpec(RepeatCopy-v0), EnvSpec(ReversedAddition-v0), EnvSpec(ReversedAddition3-v0), EnvSpec(DuplicatedInput-v0), EnvSpec(Reverse-v0), EnvSpec(CartPole-v0), EnvSpec(CartPole-v1), EnvSpec(MountainCar-v0), EnvSpec(MountainCarContinuous-v0), EnvSpec(Pendulum-v0), EnvSpec(Acrobot-v1), EnvSpec(LunarLander-v2), EnvSpec(LunarLanderContinuous-v2), EnvSpec(BipedalWalker-v3), EnvSpec(BipedalWalkerHardcore-v3), EnvSpec(CarRacing-v0), EnvSpec(Blackjack-v0), EnvSpec(KellyCoinflip-v0), EnvSpec(KellyCoinflipGeneralized-v0), EnvSpec(FrozenLake-v0), EnvSpec(FrozenLake8x8-v0), EnvSpec(CliffWalking-v0), EnvSpec(NChain-v0), EnvSpec(Roulette-v0), EnvSpec(Taxi-v3), EnvSpec(GuessingGame-v0), EnvSpec(HotterColder-v0), EnvSpec(Reacher-v2), EnvSpec(Pusher-v2), EnvSpec(Thrower-v2), EnvSpec(Striker-v2), EnvSpec(InvertedPendulum-v2), EnvSpec(InvertedDoublePendulum-v2), EnvSpec(HalfCheetah-v2), EnvSpec(HalfCheetah-v3), EnvSpec(Hopper-v2), EnvSpec(Hopper-v3), EnvSpec(Swimmer-v2), EnvSpec(Swimmer-v3), EnvSpec(Walker2d-v2), EnvSpec(Walker2d-v3), EnvSpec(Ant-v2), EnvSpec(Ant-v3), EnvSpec(Humanoid-v2), EnvSpec(Humanoid-v3), EnvSpec(HumanoidStandup-v2), EnvSpec(FetchSlide-v1), EnvSpec(FetchPickAndPlace-v1), EnvSpec(FetchReach-v1), EnvSpec(FetchPush-v1), EnvSpec(HandReach-v0), EnvSpec(HandManipulateBlockRotateZ-v0), EnvSpec(HandManipulateBlockRotateZTouchSensors-v0), EnvSpec(HandManipulateBlockRotateZTouchSensors-v1), EnvSpec(HandManipulateBlockRotateParallel-v0), EnvSpec(HandManipulateBlockRotateParallelTouchSensors-v0), EnvSpec(HandManipulateBlockRotateParallelTouchSensors-v1), EnvSpec(HandManipulateBlockRotateXYZ-v0), EnvSpec(HandManipulateBlockRotateXYZTouchSensors-v0), EnvSpec(HandManipulateBlockRotateXYZTouchSensors-v1), EnvSpec(HandManipulateBlockFull-v0), EnvSpec(HandManipulateBlock-v0), EnvSpec(HandManipulateBlockTouchSensors-v0), EnvSpec(HandManipulateBlockTouchSensors-v1), EnvSpec(HandManipulateEggRotate-v0), EnvSpec(HandManipulateEggRotateTouchSensors-v0), EnvSpec(HandManipulateEggRotateTouchSensors-v1), EnvSpec(HandManipulateEggFull-v0), EnvSpec(HandManipulateEgg-v0), EnvSpec(HandManipulateEggTouchSensors-v0), EnvSpec(HandManipulateEggTouchSensors-v1), EnvSpec(HandManipulatePenRotate-v0), EnvSpec(HandManipulatePenRotateTouchSensors-v0), EnvSpec(HandManipulatePenRotateTouchSensors-v1), EnvSpec(HandManipulatePenFull-v0), EnvSpec(HandManipulatePen-v0), EnvSpec(HandManipulatePenTouchSensors-v0), EnvSpec(HandManipulatePenTouchSensors-v1), EnvSpec(FetchSlideDense-v1), EnvSpec(FetchPickAndPlaceDense-v1), EnvSpec(FetchReachDense-v1), EnvSpec(FetchPushDense-v1), EnvSpec(HandReachDense-v0), EnvSpec(HandManipulateBlockRotateZDense-v0), EnvSpec(HandManipulateBlockRotateZTouchSensorsDense-v0), EnvSpec(HandManipulateBlockRotateZTouchSensorsDense-v1), EnvSpec(HandManipulateBlockRotateParallelDense-v0), EnvSpec(HandManipulateBlockRotateParallelTouchSensorsDense-v0), EnvSpec(HandManipulateBlockRotateParallelTouchSensorsDense-v1), EnvSpec(HandManipulateBlockRotateXYZDense-v0), EnvSpec(HandManipulateBlockRotateXYZTouchSensorsDense-v0), EnvSpec(HandManipulateBlockRotateXYZTouchSensorsDense-v1), EnvSpec(HandManipulateBlockFullDense-v0), EnvSpec(HandManipulateBlockDense-v0), EnvSpec(HandManipulateBlockTouchSensorsDense-v0), EnvSpec(HandManipulateBlockTouchSensorsDense-v1), EnvSpec(HandManipulateEggRotateDense-v0), EnvSpec(HandManipulateEggRotateTouchSensorsDense-v0), EnvSpec(HandManipulateEggRotateTouchSensorsDense-v1), EnvSpec(HandManipulateEggFullDense-v0), EnvSpec(HandManipulateEggDense-v0), EnvSpec(HandManipulateEggTouchSensorsDense-v0), EnvSpec(HandManipulateEggTouchSensorsDense-v1), EnvSpec(HandManipulatePenRotateDense-v0), EnvSpec(HandManipulatePenRotateTouchSensorsDense-v0), EnvSpec(HandManipulatePenRotateTouchSensorsDense-v1), EnvSpec(HandManipulatePenFullDense-v0), EnvSpec(HandManipulatePenDense-v0), EnvSpec(HandManipulatePenTouchSensorsDense-v0), EnvSpec(HandManipulatePenTouchSensorsDense-v1), EnvSpec(Adventure-v0), EnvSpec(Adventure-v4), EnvSpec(AdventureDeterministic-v0), EnvSpec(AdventureDeterministic-v4), EnvSpec(AdventureNoFrameskip-v0), EnvSpec(AdventureNoFrameskip-v4), EnvSpec(Adventure-ram-v0), EnvSpec(Adventure-ram-v4), EnvSpec(Adventure-ramDeterministic-v0), EnvSpec(Adventure-ramDeterministic-v4), EnvSpec(Adventure-ramNoFrameskip-v0), EnvSpec(Adventure-ramNoFrameskip-v4), EnvSpec(AirRaid-v0), EnvSpec(AirRaid-v4), EnvSpec(AirRaidDeterministic-v0), EnvSpec(AirRaidDeterministic-v4), EnvSpec(AirRaidNoFrameskip-v0), EnvSpec(AirRaidNoFrameskip-v4), EnvSpec(AirRaid-ram-v0), EnvSpec(AirRaid-ram-v4), EnvSpec(AirRaid-ramDeterministic-v0), EnvSpec(AirRaid-ramDeterministic-v4), EnvSpec(AirRaid-ramNoFrameskip-v0), EnvSpec(AirRaid-ramNoFrameskip-v4), EnvSpec(Alien-v0), EnvSpec(Alien-v4), EnvSpec(AlienDeterministic-v0), EnvSpec(AlienDeterministic-v4), EnvSpec(AlienNoFrameskip-v0), EnvSpec(AlienNoFrameskip-v4), EnvSpec(Alien-ram-v0), EnvSpec(Alien-ram-v4), EnvSpec(Alien-ramDeterministic-v0), EnvSpec(Alien-ramDeterministic-v4), EnvSpec(Alien-ramNoFrameskip-v0), EnvSpec(Alien-ramNoFrameskip-v4), EnvSpec(Amidar-v0), EnvSpec(Amidar-v4), EnvSpec(AmidarDeterministic-v0), EnvSpec(AmidarDeterministic-v4), EnvSpec(AmidarNoFrameskip-v0), EnvSpec(AmidarNoFrameskip-v4), EnvSpec(Amidar-ram-v0), EnvSpec(Amidar-ram-v4), EnvSpec(Amidar-ramDeterministic-v0), EnvSpec(Amidar-ramDeterministic-v4), EnvSpec(Amidar-ramNoFrameskip-v0), EnvSpec(Amidar-ramNoFrameskip-v4), EnvSpec(Assault-v0), EnvSpec(Assault-v4), EnvSpec(AssaultDeterministic-v0), EnvSpec(AssaultDeterministic-v4), EnvSpec(AssaultNoFrameskip-v0), EnvSpec(AssaultNoFrameskip-v4), EnvSpec(Assault-ram-v0), EnvSpec(Assault-ram-v4), EnvSpec(Assault-ramDeterministic-v0), EnvSpec(Assault-ramDeterministic-v4), EnvSpec(Assault-ramNoFrameskip-v0), EnvSpec(Assault-ramNoFrameskip-v4), EnvSpec(Asterix-v0), EnvSpec(Asterix-v4), EnvSpec(AsterixDeterministic-v0), EnvSpec(AsterixDeterministic-v4), EnvSpec(AsterixNoFrameskip-v0), EnvSpec(AsterixNoFrameskip-v4), EnvSpec(Asterix-ram-v0), EnvSpec(Asterix-ram-v4), EnvSpec(Asterix-ramDeterministic-v0), EnvSpec(Asterix-ramDeterministic-v4), EnvSpec(Asterix-ramNoFrameskip-v0), EnvSpec(Asterix-ramNoFrameskip-v4), EnvSpec(Asteroids-v0), EnvSpec(Asteroids-v4), EnvSpec(AsteroidsDeterministic-v0), EnvSpec(AsteroidsDeterministic-v4), EnvSpec(AsteroidsNoFrameskip-v0), EnvSpec(AsteroidsNoFrameskip-v4), EnvSpec(Asteroids-ram-v0), EnvSpec(Asteroids-ram-v4), EnvSpec(Asteroids-ramDeterministic-v0), EnvSpec(Asteroids-ramDeterministic-v4), EnvSpec(Asteroids-ramNoFrameskip-v0), EnvSpec(Asteroids-ramNoFrameskip-v4), EnvSpec(Atlantis-v0), EnvSpec(Atlantis-v4), EnvSpec(AtlantisDeterministic-v0), EnvSpec(AtlantisDeterministic-v4), EnvSpec(AtlantisNoFrameskip-v0), EnvSpec(AtlantisNoFrameskip-v4), EnvSpec(Atlantis-ram-v0), EnvSpec(Atlantis-ram-v4), EnvSpec(Atlantis-ramDeterministic-v0), EnvSpec(Atlantis-ramDeterministic-v4), EnvSpec(Atlantis-ramNoFrameskip-v0), EnvSpec(Atlantis-ramNoFrameskip-v4), EnvSpec(BankHeist-v0), EnvSpec(BankHeist-v4), EnvSpec(BankHeistDeterministic-v0), EnvSpec(BankHeistDeterministic-v4), EnvSpec(BankHeistNoFrameskip-v0), EnvSpec(BankHeistNoFrameskip-v4), EnvSpec(BankHeist-ram-v0), EnvSpec(BankHeist-ram-v4), EnvSpec(BankHeist-ramDeterministic-v0), EnvSpec(BankHeist-ramDeterministic-v4), EnvSpec(BankHeist-ramNoFrameskip-v0), EnvSpec(BankHeist-ramNoFrameskip-v4), EnvSpec(BattleZone-v0), EnvSpec(BattleZone-v4), EnvSpec(BattleZoneDeterministic-v0), EnvSpec(BattleZoneDeterministic-v4), EnvSpec(BattleZoneNoFrameskip-v0), EnvSpec(BattleZoneNoFrameskip-v4), EnvSpec(BattleZone-ram-v0), EnvSpec(BattleZone-ram-v4), EnvSpec(BattleZone-ramDeterministic-v0), EnvSpec(BattleZone-ramDeterministic-v4), EnvSpec(BattleZone-ramNoFrameskip-v0), EnvSpec(BattleZone-ramNoFrameskip-v4), EnvSpec(BeamRider-v0), EnvSpec(BeamRider-v4), EnvSpec(BeamRiderDeterministic-v0), EnvSpec(BeamRiderDeterministic-v4), EnvSpec(BeamRiderNoFrameskip-v0), EnvSpec(BeamRiderNoFrameskip-v4), EnvSpec(BeamRider-ram-v0), EnvSpec(BeamRider-ram-v4), EnvSpec(BeamRider-ramDeterministic-v0), EnvSpec(BeamRider-ramDeterministic-v4), EnvSpec(BeamRider-ramNoFrameskip-v0), EnvSpec(BeamRider-ramNoFrameskip-v4), EnvSpec(Berzerk-v0), EnvSpec(Berzerk-v4), EnvSpec(BerzerkDeterministic-v0), EnvSpec(BerzerkDeterministic-v4), EnvSpec(BerzerkNoFrameskip-v0), EnvSpec(BerzerkNoFrameskip-v4), EnvSpec(Berzerk-ram-v0), EnvSpec(Berzerk-ram-v4), EnvSpec(Berzerk-ramDeterministic-v0), EnvSpec(Berzerk-ramDeterministic-v4), EnvSpec(Berzerk-ramNoFrameskip-v0), EnvSpec(Berzerk-ramNoFrameskip-v4), EnvSpec(Bowling-v0), EnvSpec(Bowling-v4), EnvSpec(BowlingDeterministic-v0), EnvSpec(BowlingDeterministic-v4), EnvSpec(BowlingNoFrameskip-v0), EnvSpec(BowlingNoFrameskip-v4), EnvSpec(Bowling-ram-v0), EnvSpec(Bowling-ram-v4), EnvSpec(Bowling-ramDeterministic-v0), EnvSpec(Bowling-ramDeterministic-v4), EnvSpec(Bowling-ramNoFrameskip-v0), EnvSpec(Bowling-ramNoFrameskip-v4), EnvSpec(Boxing-v0), EnvSpec(Boxing-v4), EnvSpec(BoxingDeterministic-v0), EnvSpec(BoxingDeterministic-v4), EnvSpec(BoxingNoFrameskip-v0), EnvSpec(BoxingNoFrameskip-v4), EnvSpec(Boxing-ram-v0), EnvSpec(Boxing-ram-v4), EnvSpec(Boxing-ramDeterministic-v0), EnvSpec(Boxing-ramDeterministic-v4), EnvSpec(Boxing-ramNoFrameskip-v0), EnvSpec(Boxing-ramNoFrameskip-v4), EnvSpec(Breakout-v0), EnvSpec(Breakout-v4), EnvSpec(BreakoutDeterministic-v0), EnvSpec(BreakoutDeterministic-v4), EnvSpec(BreakoutNoFrameskip-v0), EnvSpec(BreakoutNoFrameskip-v4), EnvSpec(Breakout-ram-v0), EnvSpec(Breakout-ram-v4), EnvSpec(Breakout-ramDeterministic-v0), EnvSpec(Breakout-ramDeterministic-v4), EnvSpec(Breakout-ramNoFrameskip-v0), EnvSpec(Breakout-ramNoFrameskip-v4), EnvSpec(Carnival-v0), EnvSpec(Carnival-v4), EnvSpec(CarnivalDeterministic-v0), EnvSpec(CarnivalDeterministic-v4), EnvSpec(CarnivalNoFrameskip-v0), EnvSpec(CarnivalNoFrameskip-v4), EnvSpec(Carnival-ram-v0), EnvSpec(Carnival-ram-v4), EnvSpec(Carnival-ramDeterministic-v0), EnvSpec(Carnival-ramDeterministic-v4), EnvSpec(Carnival-ramNoFrameskip-v0), EnvSpec(Carnival-ramNoFrameskip-v4), EnvSpec(Centipede-v0), EnvSpec(Centipede-v4), EnvSpec(CentipedeDeterministic-v0), EnvSpec(CentipedeDeterministic-v4), EnvSpec(CentipedeNoFrameskip-v0), EnvSpec(CentipedeNoFrameskip-v4), EnvSpec(Centipede-ram-v0), EnvSpec(Centipede-ram-v4), EnvSpec(Centipede-ramDeterministic-v0), EnvSpec(Centipede-ramDeterministic-v4), EnvSpec(Centipede-ramNoFrameskip-v0), EnvSpec(Centipede-ramNoFrameskip-v4), EnvSpec(ChopperCommand-v0), EnvSpec(ChopperCommand-v4), EnvSpec(ChopperCommandDeterministic-v0), EnvSpec(ChopperCommandDeterministic-v4), EnvSpec(ChopperCommandNoFrameskip-v0), EnvSpec(ChopperCommandNoFrameskip-v4), EnvSpec(ChopperCommand-ram-v0), EnvSpec(ChopperCommand-ram-v4), EnvSpec(ChopperCommand-ramDeterministic-v0), EnvSpec(ChopperCommand-ramDeterministic-v4), EnvSpec(ChopperCommand-ramNoFrameskip-v0), EnvSpec(ChopperCommand-ramNoFrameskip-v4), EnvSpec(CrazyClimber-v0), EnvSpec(CrazyClimber-v4), EnvSpec(CrazyClimberDeterministic-v0), EnvSpec(CrazyClimberDeterministic-v4), EnvSpec(CrazyClimberNoFrameskip-v0), EnvSpec(CrazyClimberNoFrameskip-v4), EnvSpec(CrazyClimber-ram-v0), EnvSpec(CrazyClimber-ram-v4), EnvSpec(CrazyClimber-ramDeterministic-v0), EnvSpec(CrazyClimber-ramDeterministic-v4), EnvSpec(CrazyClimber-ramNoFrameskip-v0), EnvSpec(CrazyClimber-ramNoFrameskip-v4), EnvSpec(Defender-v0), EnvSpec(Defender-v4), EnvSpec(DefenderDeterministic-v0), EnvSpec(DefenderDeterministic-v4), EnvSpec(DefenderNoFrameskip-v0), EnvSpec(DefenderNoFrameskip-v4), EnvSpec(Defender-ram-v0), EnvSpec(Defender-ram-v4), EnvSpec(Defender-ramDeterministic-v0), EnvSpec(Defender-ramDeterministic-v4), EnvSpec(Defender-ramNoFrameskip-v0), EnvSpec(Defender-ramNoFrameskip-v4), EnvSpec(DemonAttack-v0), EnvSpec(DemonAttack-v4), EnvSpec(DemonAttackDeterministic-v0), EnvSpec(DemonAttackDeterministic-v4), EnvSpec(DemonAttackNoFrameskip-v0), EnvSpec(DemonAttackNoFrameskip-v4), EnvSpec(DemonAttack-ram-v0), EnvSpec(DemonAttack-ram-v4), EnvSpec(DemonAttack-ramDeterministic-v0), EnvSpec(DemonAttack-ramDeterministic-v4), EnvSpec(DemonAttack-ramNoFrameskip-v0), EnvSpec(DemonAttack-ramNoFrameskip-v4), EnvSpec(DoubleDunk-v0), EnvSpec(DoubleDunk-v4), EnvSpec(DoubleDunkDeterministic-v0), EnvSpec(DoubleDunkDeterministic-v4), EnvSpec(DoubleDunkNoFrameskip-v0), EnvSpec(DoubleDunkNoFrameskip-v4), EnvSpec(DoubleDunk-ram-v0), EnvSpec(DoubleDunk-ram-v4), EnvSpec(DoubleDunk-ramDeterministic-v0), EnvSpec(DoubleDunk-ramDeterministic-v4), EnvSpec(DoubleDunk-ramNoFrameskip-v0), EnvSpec(DoubleDunk-ramNoFrameskip-v4), EnvSpec(ElevatorAction-v0), EnvSpec(ElevatorAction-v4), EnvSpec(ElevatorActionDeterministic-v0), EnvSpec(ElevatorActionDeterministic-v4), EnvSpec(ElevatorActionNoFrameskip-v0), EnvSpec(ElevatorActionNoFrameskip-v4), EnvSpec(ElevatorAction-ram-v0), EnvSpec(ElevatorAction-ram-v4), EnvSpec(ElevatorAction-ramDeterministic-v0), EnvSpec(ElevatorAction-ramDeterministic-v4), EnvSpec(ElevatorAction-ramNoFrameskip-v0), EnvSpec(ElevatorAction-ramNoFrameskip-v4), EnvSpec(Enduro-v0), EnvSpec(Enduro-v4), EnvSpec(EnduroDeterministic-v0), EnvSpec(EnduroDeterministic-v4), EnvSpec(EnduroNoFrameskip-v0), EnvSpec(EnduroNoFrameskip-v4), EnvSpec(Enduro-ram-v0), EnvSpec(Enduro-ram-v4), EnvSpec(Enduro-ramDeterministic-v0), EnvSpec(Enduro-ramDeterministic-v4), EnvSpec(Enduro-ramNoFrameskip-v0), EnvSpec(Enduro-ramNoFrameskip-v4), EnvSpec(FishingDerby-v0), EnvSpec(FishingDerby-v4), EnvSpec(FishingDerbyDeterministic-v0), EnvSpec(FishingDerbyDeterministic-v4), EnvSpec(FishingDerbyNoFrameskip-v0), EnvSpec(FishingDerbyNoFrameskip-v4), EnvSpec(FishingDerby-ram-v0), EnvSpec(FishingDerby-ram-v4), EnvSpec(FishingDerby-ramDeterministic-v0), EnvSpec(FishingDerby-ramDeterministic-v4), EnvSpec(FishingDerby-ramNoFrameskip-v0), EnvSpec(FishingDerby-ramNoFrameskip-v4), EnvSpec(Freeway-v0), EnvSpec(Freeway-v4), EnvSpec(FreewayDeterministic-v0), EnvSpec(FreewayDeterministic-v4), EnvSpec(FreewayNoFrameskip-v0), EnvSpec(FreewayNoFrameskip-v4), EnvSpec(Freeway-ram-v0), EnvSpec(Freeway-ram-v4), EnvSpec(Freeway-ramDeterministic-v0), EnvSpec(Freeway-ramDeterministic-v4), EnvSpec(Freeway-ramNoFrameskip-v0), EnvSpec(Freeway-ramNoFrameskip-v4), EnvSpec(Frostbite-v0), EnvSpec(Frostbite-v4), EnvSpec(FrostbiteDeterministic-v0), EnvSpec(FrostbiteDeterministic-v4), EnvSpec(FrostbiteNoFrameskip-v0), EnvSpec(FrostbiteNoFrameskip-v4), EnvSpec(Frostbite-ram-v0), EnvSpec(Frostbite-ram-v4), EnvSpec(Frostbite-ramDeterministic-v0), EnvSpec(Frostbite-ramDeterministic-v4), EnvSpec(Frostbite-ramNoFrameskip-v0), EnvSpec(Frostbite-ramNoFrameskip-v4), EnvSpec(Gopher-v0), EnvSpec(Gopher-v4), EnvSpec(GopherDeterministic-v0), EnvSpec(GopherDeterministic-v4), EnvSpec(GopherNoFrameskip-v0), EnvSpec(GopherNoFrameskip-v4), EnvSpec(Gopher-ram-v0), EnvSpec(Gopher-ram-v4), EnvSpec(Gopher-ramDeterministic-v0), EnvSpec(Gopher-ramDeterministic-v4), EnvSpec(Gopher-ramNoFrameskip-v0), EnvSpec(Gopher-ramNoFrameskip-v4), EnvSpec(Gravitar-v0), EnvSpec(Gravitar-v4), EnvSpec(GravitarDeterministic-v0), EnvSpec(GravitarDeterministic-v4), EnvSpec(GravitarNoFrameskip-v0), EnvSpec(GravitarNoFrameskip-v4), EnvSpec(Gravitar-ram-v0), EnvSpec(Gravitar-ram-v4), EnvSpec(Gravitar-ramDeterministic-v0), EnvSpec(Gravitar-ramDeterministic-v4), EnvSpec(Gravitar-ramNoFrameskip-v0), EnvSpec(Gravitar-ramNoFrameskip-v4), EnvSpec(Hero-v0), EnvSpec(Hero-v4), EnvSpec(HeroDeterministic-v0), EnvSpec(HeroDeterministic-v4), EnvSpec(HeroNoFrameskip-v0), EnvSpec(HeroNoFrameskip-v4), EnvSpec(Hero-ram-v0), EnvSpec(Hero-ram-v4), EnvSpec(Hero-ramDeterministic-v0), EnvSpec(Hero-ramDeterministic-v4), EnvSpec(Hero-ramNoFrameskip-v0), EnvSpec(Hero-ramNoFrameskip-v4), EnvSpec(IceHockey-v0), EnvSpec(IceHockey-v4), EnvSpec(IceHockeyDeterministic-v0), EnvSpec(IceHockeyDeterministic-v4), EnvSpec(IceHockeyNoFrameskip-v0), EnvSpec(IceHockeyNoFrameskip-v4), EnvSpec(IceHockey-ram-v0), EnvSpec(IceHockey-ram-v4), EnvSpec(IceHockey-ramDeterministic-v0), EnvSpec(IceHockey-ramDeterministic-v4), EnvSpec(IceHockey-ramNoFrameskip-v0), EnvSpec(IceHockey-ramNoFrameskip-v4), EnvSpec(Jamesbond-v0), EnvSpec(Jamesbond-v4), EnvSpec(JamesbondDeterministic-v0), EnvSpec(JamesbondDeterministic-v4), EnvSpec(JamesbondNoFrameskip-v0), EnvSpec(JamesbondNoFrameskip-v4), EnvSpec(Jamesbond-ram-v0), EnvSpec(Jamesbond-ram-v4), EnvSpec(Jamesbond-ramDeterministic-v0), EnvSpec(Jamesbond-ramDeterministic-v4), EnvSpec(Jamesbond-ramNoFrameskip-v0), EnvSpec(Jamesbond-ramNoFrameskip-v4), EnvSpec(JourneyEscape-v0), EnvSpec(JourneyEscape-v4), EnvSpec(JourneyEscapeDeterministic-v0), EnvSpec(JourneyEscapeDeterministic-v4), EnvSpec(JourneyEscapeNoFrameskip-v0), EnvSpec(JourneyEscapeNoFrameskip-v4), EnvSpec(JourneyEscape-ram-v0), EnvSpec(JourneyEscape-ram-v4), EnvSpec(JourneyEscape-ramDeterministic-v0), EnvSpec(JourneyEscape-ramDeterministic-v4), EnvSpec(JourneyEscape-ramNoFrameskip-v0), EnvSpec(JourneyEscape-ramNoFrameskip-v4), EnvSpec(Kangaroo-v0), EnvSpec(Kangaroo-v4), EnvSpec(KangarooDeterministic-v0), EnvSpec(KangarooDeterministic-v4), EnvSpec(KangarooNoFrameskip-v0), EnvSpec(KangarooNoFrameskip-v4), EnvSpec(Kangaroo-ram-v0), EnvSpec(Kangaroo-ram-v4), EnvSpec(Kangaroo-ramDeterministic-v0), EnvSpec(Kangaroo-ramDeterministic-v4), EnvSpec(Kangaroo-ramNoFrameskip-v0), EnvSpec(Kangaroo-ramNoFrameskip-v4), EnvSpec(Krull-v0), EnvSpec(Krull-v4), EnvSpec(KrullDeterministic-v0), EnvSpec(KrullDeterministic-v4), EnvSpec(KrullNoFrameskip-v0), EnvSpec(KrullNoFrameskip-v4), EnvSpec(Krull-ram-v0), EnvSpec(Krull-ram-v4), EnvSpec(Krull-ramDeterministic-v0), EnvSpec(Krull-ramDeterministic-v4), EnvSpec(Krull-ramNoFrameskip-v0), EnvSpec(Krull-ramNoFrameskip-v4), EnvSpec(KungFuMaster-v0), EnvSpec(KungFuMaster-v4), EnvSpec(KungFuMasterDeterministic-v0), EnvSpec(KungFuMasterDeterministic-v4), EnvSpec(KungFuMasterNoFrameskip-v0), EnvSpec(KungFuMasterNoFrameskip-v4), EnvSpec(KungFuMaster-ram-v0), EnvSpec(KungFuMaster-ram-v4), EnvSpec(KungFuMaster-ramDeterministic-v0), EnvSpec(KungFuMaster-ramDeterministic-v4), EnvSpec(KungFuMaster-ramNoFrameskip-v0), EnvSpec(KungFuMaster-ramNoFrameskip-v4), EnvSpec(MontezumaRevenge-v0), EnvSpec(MontezumaRevenge-v4), EnvSpec(MontezumaRevengeDeterministic-v0), EnvSpec(MontezumaRevengeDeterministic-v4), EnvSpec(MontezumaRevengeNoFrameskip-v0), EnvSpec(MontezumaRevengeNoFrameskip-v4), EnvSpec(MontezumaRevenge-ram-v0), EnvSpec(MontezumaRevenge-ram-v4), EnvSpec(MontezumaRevenge-ramDeterministic-v0), EnvSpec(MontezumaRevenge-ramDeterministic-v4), EnvSpec(MontezumaRevenge-ramNoFrameskip-v0), EnvSpec(MontezumaRevenge-ramNoFrameskip-v4), EnvSpec(MsPacman-v0), EnvSpec(MsPacman-v4), EnvSpec(MsPacmanDeterministic-v0), EnvSpec(MsPacmanDeterministic-v4), EnvSpec(MsPacmanNoFrameskip-v0), EnvSpec(MsPacmanNoFrameskip-v4), EnvSpec(MsPacman-ram-v0), EnvSpec(MsPacman-ram-v4), EnvSpec(MsPacman-ramDeterministic-v0), EnvSpec(MsPacman-ramDeterministic-v4), EnvSpec(MsPacman-ramNoFrameskip-v0), EnvSpec(MsPacman-ramNoFrameskip-v4), EnvSpec(NameThisGame-v0), EnvSpec(NameThisGame-v4), EnvSpec(NameThisGameDeterministic-v0), EnvSpec(NameThisGameDeterministic-v4), EnvSpec(NameThisGameNoFrameskip-v0), EnvSpec(NameThisGameNoFrameskip-v4), EnvSpec(NameThisGame-ram-v0), EnvSpec(NameThisGame-ram-v4), EnvSpec(NameThisGame-ramDeterministic-v0), EnvSpec(NameThisGame-ramDeterministic-v4), EnvSpec(NameThisGame-ramNoFrameskip-v0), EnvSpec(NameThisGame-ramNoFrameskip-v4), EnvSpec(Phoenix-v0), EnvSpec(Phoenix-v4), EnvSpec(PhoenixDeterministic-v0), EnvSpec(PhoenixDeterministic-v4), EnvSpec(PhoenixNoFrameskip-v0), EnvSpec(PhoenixNoFrameskip-v4), EnvSpec(Phoenix-ram-v0), EnvSpec(Phoenix-ram-v4), EnvSpec(Phoenix-ramDeterministic-v0), EnvSpec(Phoenix-ramDeterministic-v4), EnvSpec(Phoenix-ramNoFrameskip-v0), EnvSpec(Phoenix-ramNoFrameskip-v4), EnvSpec(Pitfall-v0), EnvSpec(Pitfall-v4), EnvSpec(PitfallDeterministic-v0), EnvSpec(PitfallDeterministic-v4), EnvSpec(PitfallNoFrameskip-v0), EnvSpec(PitfallNoFrameskip-v4), EnvSpec(Pitfall-ram-v0), EnvSpec(Pitfall-ram-v4), EnvSpec(Pitfall-ramDeterministic-v0), EnvSpec(Pitfall-ramDeterministic-v4), EnvSpec(Pitfall-ramNoFrameskip-v0), EnvSpec(Pitfall-ramNoFrameskip-v4), EnvSpec(Pong-v0), EnvSpec(Pong-v4), EnvSpec(PongDeterministic-v0), EnvSpec(PongDeterministic-v4), EnvSpec(PongNoFrameskip-v0), EnvSpec(PongNoFrameskip-v4), EnvSpec(Pong-ram-v0), EnvSpec(Pong-ram-v4), EnvSpec(Pong-ramDeterministic-v0), EnvSpec(Pong-ramDeterministic-v4), EnvSpec(Pong-ramNoFrameskip-v0), EnvSpec(Pong-ramNoFrameskip-v4), EnvSpec(Pooyan-v0), EnvSpec(Pooyan-v4), EnvSpec(PooyanDeterministic-v0), EnvSpec(PooyanDeterministic-v4), EnvSpec(PooyanNoFrameskip-v0), EnvSpec(PooyanNoFrameskip-v4), EnvSpec(Pooyan-ram-v0), EnvSpec(Pooyan-ram-v4), EnvSpec(Pooyan-ramDeterministic-v0), EnvSpec(Pooyan-ramDeterministic-v4), EnvSpec(Pooyan-ramNoFrameskip-v0), EnvSpec(Pooyan-ramNoFrameskip-v4), EnvSpec(PrivateEye-v0), EnvSpec(PrivateEye-v4), EnvSpec(PrivateEyeDeterministic-v0), EnvSpec(PrivateEyeDeterministic-v4), EnvSpec(PrivateEyeNoFrameskip-v0), EnvSpec(PrivateEyeNoFrameskip-v4), EnvSpec(PrivateEye-ram-v0), EnvSpec(PrivateEye-ram-v4), EnvSpec(PrivateEye-ramDeterministic-v0), EnvSpec(PrivateEye-ramDeterministic-v4), EnvSpec(PrivateEye-ramNoFrameskip-v0), EnvSpec(PrivateEye-ramNoFrameskip-v4), EnvSpec(Qbert-v0), EnvSpec(Qbert-v4), EnvSpec(QbertDeterministic-v0), EnvSpec(QbertDeterministic-v4), EnvSpec(QbertNoFrameskip-v0), EnvSpec(QbertNoFrameskip-v4), EnvSpec(Qbert-ram-v0), EnvSpec(Qbert-ram-v4), EnvSpec(Qbert-ramDeterministic-v0), EnvSpec(Qbert-ramDeterministic-v4), EnvSpec(Qbert-ramNoFrameskip-v0), EnvSpec(Qbert-ramNoFrameskip-v4), EnvSpec(Riverraid-v0), EnvSpec(Riverraid-v4), EnvSpec(RiverraidDeterministic-v0), EnvSpec(RiverraidDeterministic-v4), EnvSpec(RiverraidNoFrameskip-v0), EnvSpec(RiverraidNoFrameskip-v4), EnvSpec(Riverraid-ram-v0), EnvSpec(Riverraid-ram-v4), EnvSpec(Riverraid-ramDeterministic-v0), EnvSpec(Riverraid-ramDeterministic-v4), EnvSpec(Riverraid-ramNoFrameskip-v0), EnvSpec(Riverraid-ramNoFrameskip-v4), EnvSpec(RoadRunner-v0), EnvSpec(RoadRunner-v4), EnvSpec(RoadRunnerDeterministic-v0), EnvSpec(RoadRunnerDeterministic-v4), EnvSpec(RoadRunnerNoFrameskip-v0), EnvSpec(RoadRunnerNoFrameskip-v4), EnvSpec(RoadRunner-ram-v0), EnvSpec(RoadRunner-ram-v4), EnvSpec(RoadRunner-ramDeterministic-v0), EnvSpec(RoadRunner-ramDeterministic-v4), EnvSpec(RoadRunner-ramNoFrameskip-v0), EnvSpec(RoadRunner-ramNoFrameskip-v4), EnvSpec(Robotank-v0), EnvSpec(Robotank-v4), EnvSpec(RobotankDeterministic-v0), EnvSpec(RobotankDeterministic-v4), EnvSpec(RobotankNoFrameskip-v0), EnvSpec(RobotankNoFrameskip-v4), EnvSpec(Robotank-ram-v0), EnvSpec(Robotank-ram-v4), EnvSpec(Robotank-ramDeterministic-v0), EnvSpec(Robotank-ramDeterministic-v4), EnvSpec(Robotank-ramNoFrameskip-v0), EnvSpec(Robotank-ramNoFrameskip-v4), EnvSpec(Seaquest-v0), EnvSpec(Seaquest-v4), EnvSpec(SeaquestDeterministic-v0), EnvSpec(SeaquestDeterministic-v4), EnvSpec(SeaquestNoFrameskip-v0), EnvSpec(SeaquestNoFrameskip-v4), EnvSpec(Seaquest-ram-v0), EnvSpec(Seaquest-ram-v4), EnvSpec(Seaquest-ramDeterministic-v0), EnvSpec(Seaquest-ramDeterministic-v4), EnvSpec(Seaquest-ramNoFrameskip-v0), EnvSpec(Seaquest-ramNoFrameskip-v4), EnvSpec(Skiing-v0), EnvSpec(Skiing-v4), EnvSpec(SkiingDeterministic-v0), EnvSpec(SkiingDeterministic-v4), EnvSpec(SkiingNoFrameskip-v0), EnvSpec(SkiingNoFrameskip-v4), EnvSpec(Skiing-ram-v0), EnvSpec(Skiing-ram-v4), EnvSpec(Skiing-ramDeterministic-v0), EnvSpec(Skiing-ramDeterministic-v4), EnvSpec(Skiing-ramNoFrameskip-v0), EnvSpec(Skiing-ramNoFrameskip-v4), EnvSpec(Solaris-v0), EnvSpec(Solaris-v4), EnvSpec(SolarisDeterministic-v0), EnvSpec(SolarisDeterministic-v4), EnvSpec(SolarisNoFrameskip-v0), EnvSpec(SolarisNoFrameskip-v4), EnvSpec(Solaris-ram-v0), EnvSpec(Solaris-ram-v4), EnvSpec(Solaris-ramDeterministic-v0), EnvSpec(Solaris-ramDeterministic-v4), EnvSpec(Solaris-ramNoFrameskip-v0), EnvSpec(Solaris-ramNoFrameskip-v4), EnvSpec(SpaceInvaders-v0), EnvSpec(SpaceInvaders-v4), EnvSpec(SpaceInvadersDeterministic-v0), EnvSpec(SpaceInvadersDeterministic-v4), EnvSpec(SpaceInvadersNoFrameskip-v0), EnvSpec(SpaceInvadersNoFrameskip-v4), EnvSpec(SpaceInvaders-ram-v0), EnvSpec(SpaceInvaders-ram-v4), EnvSpec(SpaceInvaders-ramDeterministic-v0), EnvSpec(SpaceInvaders-ramDeterministic-v4), EnvSpec(SpaceInvaders-ramNoFrameskip-v0), EnvSpec(SpaceInvaders-ramNoFrameskip-v4), EnvSpec(StarGunner-v0), EnvSpec(StarGunner-v4), EnvSpec(StarGunnerDeterministic-v0), EnvSpec(StarGunnerDeterministic-v4), EnvSpec(StarGunnerNoFrameskip-v0), EnvSpec(StarGunnerNoFrameskip-v4), EnvSpec(StarGunner-ram-v0), EnvSpec(StarGunner-ram-v4), EnvSpec(StarGunner-ramDeterministic-v0), EnvSpec(StarGunner-ramDeterministic-v4), EnvSpec(StarGunner-ramNoFrameskip-v0), EnvSpec(StarGunner-ramNoFrameskip-v4), EnvSpec(Tennis-v0), EnvSpec(Tennis-v4), EnvSpec(TennisDeterministic-v0), EnvSpec(TennisDeterministic-v4), EnvSpec(TennisNoFrameskip-v0), EnvSpec(TennisNoFrameskip-v4), EnvSpec(Tennis-ram-v0), EnvSpec(Tennis-ram-v4), EnvSpec(Tennis-ramDeterministic-v0), EnvSpec(Tennis-ramDeterministic-v4), EnvSpec(Tennis-ramNoFrameskip-v0), EnvSpec(Tennis-ramNoFrameskip-v4), EnvSpec(TimePilot-v0), EnvSpec(TimePilot-v4), EnvSpec(TimePilotDeterministic-v0), EnvSpec(TimePilotDeterministic-v4), EnvSpec(TimePilotNoFrameskip-v0), EnvSpec(TimePilotNoFrameskip-v4), EnvSpec(TimePilot-ram-v0), EnvSpec(TimePilot-ram-v4), EnvSpec(TimePilot-ramDeterministic-v0), EnvSpec(TimePilot-ramDeterministic-v4), EnvSpec(TimePilot-ramNoFrameskip-v0), EnvSpec(TimePilot-ramNoFrameskip-v4), EnvSpec(Tutankham-v0), EnvSpec(Tutankham-v4), EnvSpec(TutankhamDeterministic-v0), EnvSpec(TutankhamDeterministic-v4), EnvSpec(TutankhamNoFrameskip-v0), EnvSpec(TutankhamNoFrameskip-v4), EnvSpec(Tutankham-ram-v0), EnvSpec(Tutankham-ram-v4), EnvSpec(Tutankham-ramDeterministic-v0), EnvSpec(Tutankham-ramDeterministic-v4), EnvSpec(Tutankham-ramNoFrameskip-v0), EnvSpec(Tutankham-ramNoFrameskip-v4), EnvSpec(UpNDown-v0), EnvSpec(UpNDown-v4), EnvSpec(UpNDownDeterministic-v0), EnvSpec(UpNDownDeterministic-v4), EnvSpec(UpNDownNoFrameskip-v0), EnvSpec(UpNDownNoFrameskip-v4), EnvSpec(UpNDown-ram-v0), EnvSpec(UpNDown-ram-v4), EnvSpec(UpNDown-ramDeterministic-v0), EnvSpec(UpNDown-ramDeterministic-v4), EnvSpec(UpNDown-ramNoFrameskip-v0), EnvSpec(UpNDown-ramNoFrameskip-v4), EnvSpec(Venture-v0), EnvSpec(Venture-v4), EnvSpec(VentureDeterministic-v0), EnvSpec(VentureDeterministic-v4), EnvSpec(VentureNoFrameskip-v0), EnvSpec(VentureNoFrameskip-v4), EnvSpec(Venture-ram-v0), EnvSpec(Venture-ram-v4), EnvSpec(Venture-ramDeterministic-v0), EnvSpec(Venture-ramDeterministic-v4), EnvSpec(Venture-ramNoFrameskip-v0), EnvSpec(Venture-ramNoFrameskip-v4), EnvSpec(VideoPinball-v0), EnvSpec(VideoPinball-v4), EnvSpec(VideoPinballDeterministic-v0), EnvSpec(VideoPinballDeterministic-v4), EnvSpec(VideoPinballNoFrameskip-v0), EnvSpec(VideoPinballNoFrameskip-v4), EnvSpec(VideoPinball-ram-v0), EnvSpec(VideoPinball-ram-v4), EnvSpec(VideoPinball-ramDeterministic-v0), EnvSpec(VideoPinball-ramDeterministic-v4), EnvSpec(VideoPinball-ramNoFrameskip-v0), EnvSpec(VideoPinball-ramNoFrameskip-v4), EnvSpec(WizardOfWor-v0), EnvSpec(WizardOfWor-v4), EnvSpec(WizardOfWorDeterministic-v0), EnvSpec(WizardOfWorDeterministic-v4), EnvSpec(WizardOfWorNoFrameskip-v0), EnvSpec(WizardOfWorNoFrameskip-v4), EnvSpec(WizardOfWor-ram-v0), EnvSpec(WizardOfWor-ram-v4), EnvSpec(WizardOfWor-ramDeterministic-v0), EnvSpec(WizardOfWor-ramDeterministic-v4), EnvSpec(WizardOfWor-ramNoFrameskip-v0), EnvSpec(WizardOfWor-ramNoFrameskip-v4), EnvSpec(YarsRevenge-v0), EnvSpec(YarsRevenge-v4), EnvSpec(YarsRevengeDeterministic-v0), EnvSpec(YarsRevengeDeterministic-v4), EnvSpec(YarsRevengeNoFrameskip-v0), EnvSpec(YarsRevengeNoFrameskip-v4), EnvSpec(YarsRevenge-ram-v0), EnvSpec(YarsRevenge-ram-v4), EnvSpec(YarsRevenge-ramDeterministic-v0), EnvSpec(YarsRevenge-ramDeterministic-v4), EnvSpec(YarsRevenge-ramNoFrameskip-v0), EnvSpec(YarsRevenge-ramNoFrameskip-v4), EnvSpec(Zaxxon-v0), EnvSpec(Zaxxon-v4), EnvSpec(ZaxxonDeterministic-v0), EnvSpec(ZaxxonDeterministic-v4), EnvSpec(ZaxxonNoFrameskip-v0), EnvSpec(ZaxxonNoFrameskip-v4), EnvSpec(Zaxxon-ram-v0), EnvSpec(Zaxxon-ram-v4), EnvSpec(Zaxxon-ramDeterministic-v0), EnvSpec(Zaxxon-ramDeterministic-v4), EnvSpec(Zaxxon-ramNoFrameskip-v0), EnvSpec(Zaxxon-ramNoFrameskip-v4), EnvSpec(CubeCrash-v0), EnvSpec(CubeCrashSparse-v0), EnvSpec(CubeCrashScreenBecomesBlack-v0), EnvSpec(MemorizeDigits-v0)])\n"
          ],
          "name": "stdout"
        }
      ]
    },
    {
      "cell_type": "markdown",
      "metadata": {
        "id": "KGnrngyV7Jn8",
        "colab_type": "text"
      },
      "source": [
        "Imports"
      ]
    },
    {
      "cell_type": "code",
      "metadata": {
        "id": "CeXe8XU67It1",
        "colab_type": "code",
        "colab": {}
      },
      "source": [
        "import gym\n",
        "from gym import logger as gymlogger\n",
        "from gym.wrappers import Monitor\n",
        "gymlogger.set_level(40) # error only\n",
        "import tensorflow as tf\n",
        "import numpy as np\n",
        "import random\n",
        "import matplotlib\n",
        "import matplotlib.pyplot as plt\n",
        "%matplotlib inline\n",
        "import math\n",
        "import glob\n",
        "import io\n",
        "import base64\n",
        "from IPython.display import HTML\n",
        "\n",
        "from IPython import display as ipythondisplay"
      ],
      "execution_count": 7,
      "outputs": []
    },
    {
      "cell_type": "markdown",
      "metadata": {
        "id": "ttunieNs_04r",
        "colab_type": "text"
      },
      "source": [
        "## Algorithmic"
      ]
    },
    {
      "cell_type": "code",
      "metadata": {
        "id": "UGqo22R-_wnD",
        "colab_type": "code",
        "colab": {
          "base_uri": "https://localhost:8080/",
          "height": 204
        },
        "outputId": "9dfff731-4995-422b-e25d-4b190945d4f1"
      },
      "source": [
        "env = gym.make('Copy-v0')\n",
        "env.reset()\n",
        "env.render()\n",
        "env.close()"
      ],
      "execution_count": 9,
      "outputs": [
        {
          "output_type": "stream",
          "text": [
            "Total length of input instance: 4, step: 0\n",
            "==========================================\n",
            "Observation Tape    :   \u001b[42mC\u001b[0mCEC  \n",
            "Output Tape         :   \n",
            "Targets             :   CCEC  \n",
            "\n",
            "\n",
            "\n",
            "\n",
            "\n",
            "\n"
          ],
          "name": "stdout"
        }
      ]
    },
    {
      "cell_type": "markdown",
      "metadata": {
        "id": "gm7Yx-Yf_9S4",
        "colab_type": "text"
      },
      "source": [
        "## Atari"
      ]
    },
    {
      "cell_type": "code",
      "metadata": {
        "id": "666WeX-T_716",
        "colab_type": "code",
        "colab": {
          "base_uri": "https://localhost:8080/",
          "height": 207
        },
        "outputId": "63638645-aa4c-4847-a049-6163b67fa2d0"
      },
      "source": [
        "!pip3 install gym[atari]"
      ],
      "execution_count": 10,
      "outputs": [
        {
          "output_type": "stream",
          "text": [
            "Requirement already satisfied: gym[atari] in /usr/local/lib/python3.6/dist-packages (0.17.2)\n",
            "Requirement already satisfied: cloudpickle<1.4.0,>=1.2.0 in /usr/local/lib/python3.6/dist-packages (from gym[atari]) (1.3.0)\n",
            "Requirement already satisfied: scipy in /usr/local/lib/python3.6/dist-packages (from gym[atari]) (1.4.1)\n",
            "Requirement already satisfied: pyglet<=1.5.0,>=1.4.0 in /usr/local/lib/python3.6/dist-packages (from gym[atari]) (1.5.0)\n",
            "Requirement already satisfied: numpy>=1.10.4 in /usr/local/lib/python3.6/dist-packages (from gym[atari]) (1.18.5)\n",
            "Requirement already satisfied: opencv-python; extra == \"atari\" in /usr/local/lib/python3.6/dist-packages (from gym[atari]) (4.1.2.30)\n",
            "Requirement already satisfied: atari-py~=0.2.0; extra == \"atari\" in /usr/local/lib/python3.6/dist-packages (from gym[atari]) (0.2.6)\n",
            "Requirement already satisfied: Pillow; extra == \"atari\" in /usr/local/lib/python3.6/dist-packages (from gym[atari]) (7.0.0)\n",
            "Requirement already satisfied: future in /usr/local/lib/python3.6/dist-packages (from pyglet<=1.5.0,>=1.4.0->gym[atari]) (0.16.0)\n",
            "Requirement already satisfied: six in /usr/local/lib/python3.6/dist-packages (from atari-py~=0.2.0; extra == \"atari\"->gym[atari]) (1.12.0)\n"
          ],
          "name": "stdout"
        }
      ]
    },
    {
      "cell_type": "code",
      "metadata": {
        "id": "WDmeT9kSAGQq",
        "colab_type": "code",
        "colab": {
          "base_uri": "https://localhost:8080/",
          "height": 269
        },
        "outputId": "7b19691d-c119-44a0-bb54-24d54f635b34"
      },
      "source": [
        "env = gym.make('SpaceInvaders-v0')\n",
        "env.reset()\n",
        "plt.imshow(env.render('rgb_array'))\n",
        "env.close()"
      ],
      "execution_count": 11,
      "outputs": [
        {
          "output_type": "display_data",
          "data": {
            "image/png": "[encoded data removed]",
            "text/plain": [
              "<Figure size 432x288 with 1 Axes>"
            ]
          },
          "metadata": {
            "tags": [],
            "needs_background": "light"
          }
        }
      ]
    },
    {
      "cell_type": "markdown",
      "metadata": {
        "id": "qQ91Ut0vATUd",
        "colab_type": "text"
      },
      "source": [
        "## Box2d"
      ]
    },
    {
      "cell_type": "code",
      "metadata": {
        "id": "PJSPYGHHAP33",
        "colab_type": "code",
        "colab": {
          "base_uri": "https://localhost:8080/",
          "height": 136
        },
        "outputId": "10128fe8-a9bf-4e52-f1dd-2202b0e9b9f3"
      },
      "source": [
        "!pip3 install gym[box2d]"
      ],
      "execution_count": 12,
      "outputs": [
        {
          "output_type": "stream",
          "text": [
            "Requirement already satisfied: gym[box2d] in /usr/local/lib/python3.6/dist-packages (0.17.2)\n",
            "Requirement already satisfied: pyglet<=1.5.0,>=1.4.0 in /usr/local/lib/python3.6/dist-packages (from gym[box2d]) (1.5.0)\n",
            "Requirement already satisfied: cloudpickle<1.4.0,>=1.2.0 in /usr/local/lib/python3.6/dist-packages (from gym[box2d]) (1.3.0)\n",
            "Requirement already satisfied: scipy in /usr/local/lib/python3.6/dist-packages (from gym[box2d]) (1.4.1)\n",
            "Requirement already satisfied: numpy>=1.10.4 in /usr/local/lib/python3.6/dist-packages (from gym[box2d]) (1.18.5)\n",
            "Requirement already satisfied: box2d-py~=2.3.5; extra == \"box2d\" in /usr/local/lib/python3.6/dist-packages (from gym[box2d]) (2.3.8)\n",
            "Requirement already satisfied: future in /usr/local/lib/python3.6/dist-packages (from pyglet<=1.5.0,>=1.4.0->gym[box2d]) (0.16.0)\n"
          ],
          "name": "stdout"
        }
      ]
    },
    {
      "cell_type": "code",
      "metadata": {
        "id": "HVCCcex7AYGx",
        "colab_type": "code",
        "colab": {
          "base_uri": "https://localhost:8080/",
          "height": 269
        },
        "outputId": "870bab27-74d3-4d31-fd6b-2a6568fba494"
      },
      "source": [
        "env = gym.make('LunarLander-v2')\n",
        "env.reset()\n",
        "plt.imshow(env.render('rgb_array'))\n",
        "env.close()"
      ],
      "execution_count": 13,
      "outputs": [
        {
          "output_type": "display_data",
          "data": {
            "image/png": "[encoded data removed]",
            "text/plain": [
              "<Figure size 432x288 with 1 Axes>"
            ]
          },
          "metadata": {
            "tags": [],
            "needs_background": "light"
          }
        }
      ]
    },
    {
      "cell_type": "markdown",
      "metadata": {
        "id": "-VP6aNMc5D_J",
        "colab_type": "text"
      },
      "source": [
        "## CartPole"
      ]
    },
    {
      "cell_type": "code",
      "metadata": {
        "id": "cWU-sd5BAp0G",
        "colab_type": "code",
        "colab": {
          "base_uri": "https://localhost:8080/",
          "height": 139
        },
        "outputId": "c6d2bfe3-617b-4e11-f678-f9257096a9fa"
      },
      "source": [
        "!pip3 install gym[classic_control]"
      ],
      "execution_count": 14,
      "outputs": [
        {
          "output_type": "stream",
          "text": [
            "Requirement already satisfied: gym[classic_control] in /usr/local/lib/python3.6/dist-packages (0.17.2)\n",
            "Requirement already satisfied: numpy>=1.10.4 in /usr/local/lib/python3.6/dist-packages (from gym[classic_control]) (1.18.5)\n",
            "Requirement already satisfied: scipy in /usr/local/lib/python3.6/dist-packages (from gym[classic_control]) (1.4.1)\n",
            "Requirement already satisfied: cloudpickle<1.4.0,>=1.2.0 in /usr/local/lib/python3.6/dist-packages (from gym[classic_control]) (1.3.0)\n",
            "Requirement already satisfied: pyglet<=1.5.0,>=1.4.0 in /usr/local/lib/python3.6/dist-packages (from gym[classic_control]) (1.5.0)\n",
            "Requirement already satisfied: future in /usr/local/lib/python3.6/dist-packages (from pyglet<=1.5.0,>=1.4.0->gym[classic_control]) (0.16.0)\n"
          ],
          "name": "stdout"
        }
      ]
    },
    {
      "cell_type": "code",
      "metadata": {
        "id": "lJIbd4EhEr7y",
        "colab_type": "code",
        "colab": {
          "base_uri": "https://localhost:8080/",
          "height": 170
        },
        "outputId": "ddf60111-386a-4db2-a19d-a94ca7ec11e6"
      },
      "source": [
        "env = gym.make('CartPole-v0')\n",
        "env = wrap_env(env)\n",
        "\n",
        "print('observation space:', env.observation_space)\n",
        "print(env.observation_space.high)\n",
        "print(env.observation_space.high)\n",
        "print('action space:', env.action_space)\n",
        "\n",
        "ob = env.reset()\n",
        "print('initial observation:', obs)\n",
        "\n",
        "action = env.action_space.sample()  # take a random action\n",
        "\n",
        "obs, reward, done, info = env.step(action)\n",
        "print('next observation:', obs)\n",
        "print('reward:', reward)\n",
        "print('done:', done)\n",
        "print('info:', info)\n",
        "\n",
        "env.close()"
      ],
      "execution_count": 12,
      "outputs": [
        {
          "output_type": "stream",
          "text": [
            "observation space: Box(4,)\n",
            "[4.8000002e+00 3.4028235e+38 4.1887903e-01 3.4028235e+38]\n",
            "[-4.8000002e+00 -3.4028235e+38 -4.1887903e-01 -3.4028235e+38]\n",
            "action space: Discrete(2)\n",
            "initial observation: [ 0.04795686 -0.00163013 -0.02011721  0.02176071]\n",
            "next observation: [ 0.04792426 -0.19645789 -0.01968199  0.30802916]\n",
            "reward: 1.0\n",
            "done: False\n",
            "info: {}\n"
          ],
          "name": "stdout"
        }
      ]
    },
    {
      "cell_type": "code",
      "metadata": {
        "id": "d1CXoWZfG4Kh",
        "colab_type": "code",
        "colab": {
          "base_uri": "https://localhost:8080/",
          "height": 761
        },
        "outputId": "708a3ec1-0b87-456b-95aa-d5bd870ec922"
      },
      "source": [
        "'''CartPole problem use random action'''\n",
        "env = gym.make('CartPole-v0')\n",
        "env = wrap_env(env)\n",
        "\n",
        "for i_episode in range(10):\n",
        "  ob = env.reset()\n",
        "  t = 0\n",
        "  while True:\n",
        "    t += 1\n",
        "    env.render()\n",
        "    # agent goes here\n",
        "    action = env.action_space.sample()   # take a random action\n",
        "    obs, reward, done, info = env.step(action) \n",
        "    if done:\n",
        "      print(\"Episode {} finished after {} timesteps\".format(i_episode+1, t+1))\n",
        "      print('reward:', reward)\n",
        "      break\n",
        "            \n",
        "env.close()\n",
        "show_video()"
      ],
      "execution_count": 15,
      "outputs": [
        {
          "output_type": "stream",
          "text": [
            "Episode 1 finished after 32 timesteps\n",
            "reward: 1.0\n",
            "Episode 2 finished after 28 timesteps\n",
            "reward: 1.0\n",
            "Episode 3 finished after 27 timesteps\n",
            "reward: 1.0\n",
            "Episode 4 finished after 11 timesteps\n",
            "reward: 1.0\n",
            "Episode 5 finished after 32 timesteps\n",
            "reward: 1.0\n",
            "Episode 6 finished after 21 timesteps\n",
            "reward: 1.0\n",
            "Episode 7 finished after 18 timesteps\n",
            "reward: 1.0\n",
            "Episode 8 finished after 47 timesteps\n",
            "reward: 1.0\n",
            "Episode 9 finished after 23 timesteps\n",
            "reward: 1.0\n",
            "Episode 10 finished after 17 timesteps\n",
            "reward: 1.0\n"
          ],
          "name": "stdout"
        },
        {
          "output_type": "display_data",
          "data": {
            "text/html": [
              "<video alt=\"test\" autoplay \n",
              "                loop controls style=\"height: 400px;\">\n",
              "                <source src=\"data:video/mp4;base64,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\" type=\"video/mp4\" />\n",
              "             </video>"
            ],
            "text/plain": [
              "<IPython.core.display.HTML object>"
            ]
          },
          "metadata": {
            "tags": []
          }
        }
      ]
    },
    {
      "cell_type": "markdown",
      "metadata": {
        "id": "h9Q1HI5qNgTx",
        "colab_type": "text"
      },
      "source": [
        "## MountainCar"
      ]
    },
    {
      "cell_type": "code",
      "metadata": {
        "id": "Dcty_mxzNW1O",
        "colab_type": "code",
        "colab": {
          "base_uri": "https://localhost:8080/",
          "height": 795
        },
        "outputId": "2a8609d8-a869-4257-c19a-5fc41627aef4"
      },
      "source": [
        "'''MountainCar problem use random action'''\n",
        "env = gym.make(\"MountainCar-v0\")\n",
        "env = wrap_env(env)\n",
        "\n",
        "# explore MountainCar environment\n",
        "print(\"Observation space:\", env.observation_space)\n",
        "print(\"Action space:\", env.action_space)\n",
        "actions = {'left': 0, 'stop': 1, 'right': 2}\n",
        "\n",
        "# simple heuristic policy\n",
        "def policy(t):\n",
        "    if t > 50 and t < 100:\n",
        "        return actions['left']\n",
        "    else:\n",
        "        return actions['right']\n",
        "\n",
        "\n",
        "for i_episode in range(10):\n",
        "  # In MountainCar, observation is just two numbers: \n",
        "  # car position and velocity\n",
        "  ob = env.reset()\n",
        "  t = 0\n",
        "  while True:\n",
        "    t += 1\n",
        "    env.render()\n",
        "    # agent goes here\n",
        "    # action = env.action_space.sample()   # take a random action\n",
        "    # action = actions['right']   # take a fixed action\n",
        "    action = policy(t)\n",
        "    observation, reward, done, info = env.step(action) \n",
        "    if done:\n",
        "      print(\"Episode {} finished after {} timesteps\".format(i_episode+1, t+1))\n",
        "      print('reward:', reward)\n",
        "      break\n",
        "            \n",
        "env.close()\n",
        "show_video()"
      ],
      "execution_count": 20,
      "outputs": [
        {
          "output_type": "stream",
          "text": [
            "Observation space: Box(2,)\n",
            "Action space: Discrete(3)\n",
            "Episode 1 finished after 141 timesteps\n",
            "reward: -1.0\n",
            "Episode 2 finished after 136 timesteps\n",
            "reward: -1.0\n",
            "Episode 3 finished after 134 timesteps\n",
            "reward: -1.0\n",
            "Episode 4 finished after 134 timesteps\n",
            "reward: -1.0\n",
            "Episode 5 finished after 137 timesteps\n",
            "reward: -1.0\n",
            "Episode 6 finished after 133 timesteps\n",
            "reward: -1.0\n",
            "Episode 7 finished after 134 timesteps\n",
            "reward: -1.0\n",
            "Episode 8 finished after 133 timesteps\n",
            "reward: -1.0\n",
            "Episode 9 finished after 137 timesteps\n",
            "reward: -1.0\n",
            "Episode 10 finished after 139 timesteps\n",
            "reward: -1.0\n"
          ],
          "name": "stdout"
        },
        {
          "output_type": "display_data",
          "data": {
            "text/html": [
              "<video alt=\"test\" autoplay \n",
              "                loop controls style=\"height: 400px;\">\n",
              "                <source src=\"data:video/mp4;base64,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\" type=\"video/mp4\" />\n",
              "             </video>"
            ],
            "text/plain": [
              "<IPython.core.display.HTML object>"
            ]
          },
          "metadata": {
            "tags": []
          }
        }
      ]
    },
    {
      "cell_type": "markdown",
      "metadata": {
        "id": "25pq3KcUUjbl",
        "colab_type": "text"
      },
      "source": [
        "# Implement Agents"
      ]
    },
    {
      "cell_type": "markdown",
      "metadata": {
        "id": "RG5LmJNgU_0v",
        "colab_type": "text"
      },
      "source": [
        "Code from OpenAI Gym Github."
      ]
    },
    {
      "cell_type": "markdown",
      "metadata": {
        "id": "Fll7X0O7UoKz",
        "colab_type": "text"
      },
      "source": [
        "### Random agent"
      ]
    },
    {
      "cell_type": "code",
      "metadata": {
        "id": "E1mEwqekU7GV",
        "colab_type": "code",
        "colab": {}
      },
      "source": [
        "import argparse\n",
        "import sys\n",
        "\n",
        "import gym\n",
        "from gym import wrappers, logger\n",
        "\n",
        "class RandomAgent(object):\n",
        "    \"\"\"The world's simplest agent!\"\"\"\n",
        "    def __init__(self, action_space):\n",
        "        self.action_space = action_space\n",
        "\n",
        "    def act(self, observation, reward, done):\n",
        "        return self.action_space.sample()\n",
        "\n",
        "if __name__ == '__main__':\n",
        "    parser = argparse.ArgumentParser(description=None)\n",
        "    parser.add_argument('env_id', nargs='?', default='CartPole-v0', help='Select the environment to run')\n",
        "    args = parser.parse_args()\n",
        "\n",
        "    # You can set the level to logger.DEBUG or logger.WARN if you\n",
        "    # want to change the amount of output.\n",
        "    logger.set_level(logger.INFO)\n",
        "\n",
        "    env = gym.make(args.env_id)\n",
        "\n",
        "    # You provide the directory to write to (can be an existing\n",
        "    # directory, including one with existing data -- all monitor files\n",
        "    # will be namespaced). You can also dump to a tempdir if you'd\n",
        "    # like: tempfile.mkdtemp().\n",
        "    outdir = '/tmp/random-agent-results'\n",
        "    env = wrappers.Monitor(env, directory=outdir, force=True)\n",
        "    env.seed(0)\n",
        "    agent = RandomAgent(env.action_space)\n",
        "\n",
        "    episode_count = 100\n",
        "    reward = 0\n",
        "    done = False\n",
        "\n",
        "    for i in range(episode_count):\n",
        "        ob = env.reset()\n",
        "        while True:\n",
        "            action = agent.act(ob, reward, done)\n",
        "            ob, reward, done, _ = env.step(action)\n",
        "            if done:\n",
        "                break\n",
        "            # Note there's no env.render() here. But the environment still can open window and\n",
        "            # render if asked by env.monitor: it calls env.render('rgb_array') to record video.\n",
        "            # Video is not recorded every episode, see capped_cubic_video_schedule for details.\n",
        "\n",
        "    # Close the env and write monitor result info to disk\n",
        "    env.close()"
      ],
      "execution_count": null,
      "outputs": []
    },
    {
      "cell_type": "markdown",
      "metadata": {
        "id": "nPFSzAzlW19p",
        "colab_type": "text"
      },
      "source": [
        "### Cross-entropy Method agent"
      ]
    },
    {
      "cell_type": "code",
      "metadata": {
        "id": "_qEORr2RW_rX",
        "colab_type": "code",
        "colab": {}
      },
      "source": [
        "import gym\n",
        "from gym import wrappers, logger\n",
        "import numpy as np\n",
        "import pickle\n",
        "import json, sys, os\n",
        "from os import path\n",
        "from _policies import BinaryActionLinearPolicy # Different file so it can be unpickled\n",
        "import argparse\n",
        "\n",
        "def cem(f, th_mean, batch_size, n_iter, elite_frac, initial_std=1.0):\n",
        "    \"\"\"\n",
        "    Generic implementation of the cross-entropy method for maximizing a black-box function\n",
        "    Args:\n",
        "        f: a function mapping from vector -> scalar\n",
        "        th_mean (np.array): initial mean over input distribution\n",
        "        batch_size (int): number of samples of theta to evaluate per batch\n",
        "        n_iter (int): number of batches\n",
        "        elite_frac (float): each batch, select this fraction of the top-performing samples\n",
        "        initial_std (float): initial standard deviation over parameter vectors\n",
        "    returns:\n",
        "        A generator of dicts. Subsequent dicts correspond to iterations of CEM algorithm.\n",
        "        The dicts contain the following values:\n",
        "        'ys' :  numpy array with values of function evaluated at current population\n",
        "        'ys_mean': mean value of function over current population\n",
        "        'theta_mean': mean value of the parameter vector over current population\n",
        "    \"\"\"\n",
        "    n_elite = int(np.round(batch_size*elite_frac))\n",
        "    th_std = np.ones_like(th_mean) * initial_std\n",
        "\n",
        "    for _ in range(n_iter):\n",
        "        ths = np.array([th_mean + dth for dth in  th_std[None,:]*np.random.randn(batch_size, th_mean.size)])\n",
        "        ys = np.array([f(th) for th in ths])\n",
        "        elite_inds = ys.argsort()[::-1][:n_elite]\n",
        "        elite_ths = ths[elite_inds]\n",
        "        th_mean = elite_ths.mean(axis=0)\n",
        "        th_std = elite_ths.std(axis=0)\n",
        "        yield {'ys' : ys, 'theta_mean' : th_mean, 'y_mean' : ys.mean()}\n",
        "\n",
        "def do_rollout(agent, env, num_steps, render=False):\n",
        "    total_rew = 0\n",
        "    ob = env.reset()\n",
        "    for t in range(num_steps):\n",
        "        a = agent.act(ob)\n",
        "        (ob, reward, done, _info) = env.step(a)\n",
        "        total_rew += reward\n",
        "        if render and t%3==0: env.render()\n",
        "        if done: break\n",
        "    return total_rew, t+1\n",
        "\n",
        "if __name__ == '__main__':\n",
        "    logger.set_level(logger.INFO)\n",
        "\n",
        "    parser = argparse.ArgumentParser()\n",
        "    parser.add_argument('--display', action='store_true')\n",
        "    parser.add_argument('target', nargs=\"?\", default=\"CartPole-v0\")\n",
        "    args = parser.parse_args()\n",
        "\n",
        "    env = gym.make(args.target)\n",
        "    env.seed(0)\n",
        "    np.random.seed(0)\n",
        "    params = dict(n_iter=10, batch_size=25, elite_frac=0.2)\n",
        "    num_steps = 200\n",
        "\n",
        "    # You provide the directory to write to (can be an existing\n",
        "    # directory, but can't contain previous monitor results. You can\n",
        "    # also dump to a tempdir if you'd like: tempfile.mkdtemp().\n",
        "    outdir = '/tmp/cem-agent-results'\n",
        "    env = wrappers.Monitor(env, outdir, force=True)\n",
        "\n",
        "    # Prepare snapshotting\n",
        "    # ----------------------------------------\n",
        "    def writefile(fname, s):\n",
        "        with open(path.join(outdir, fname), 'w') as fh: fh.write(s)\n",
        "    info = {}\n",
        "    info['params'] = params\n",
        "    info['argv'] = sys.argv\n",
        "    info['env_id'] = env.spec.id\n",
        "    # ------------------------------------------\n",
        "\n",
        "    def noisy_evaluation(theta):\n",
        "        agent = BinaryActionLinearPolicy(theta)\n",
        "        rew, T = do_rollout(agent, env, num_steps)\n",
        "        return rew\n",
        "\n",
        "    # Train the agent, and snapshot each stage\n",
        "    for (i, iterdata) in enumerate(\n",
        "        cem(noisy_evaluation, np.zeros(env.observation_space.shape[0]+1), **params)):\n",
        "        print('Iteration %2i. Episode mean reward: %7.3f'%(i, iterdata['y_mean']))\n",
        "        agent = BinaryActionLinearPolicy(iterdata['theta_mean'])\n",
        "        if args.display: do_rollout(agent, env, 200, render=True)\n",
        "        writefile('agent-%.4i.pkl'%i, str(pickle.dumps(agent, -1)))\n",
        "\n",
        "    # Write out the env at the end so we store the parameters of this\n",
        "    # environment.\n",
        "    writefile('info.json', json.dumps(info))\n",
        "\n",
        "    env.close()"
      ],
      "execution_count": null,
      "outputs": []
    },
    {
      "cell_type": "markdown",
      "metadata": {
        "id": "PKSkqBNuTmXF",
        "colab_type": "text"
      },
      "source": [
        "## Mean-Reversion"
      ]
    },
    {
      "cell_type": "markdown",
      "metadata": {
        "id": "GjgNx7J8Tp96",
        "colab_type": "text"
      },
      "source": [
        "Create a new environment."
      ]
    },
    {
      "cell_type": "code",
      "metadata": {
        "id": "oQa25fGJbN8W",
        "colab_type": "code",
        "colab": {}
      },
      "source": [
        ""
      ],
      "execution_count": null,
      "outputs": []
    },
    {
      "cell_type": "code",
      "metadata": {
        "id": "jeXsFq7ZTpMl",
        "colab_type": "code",
        "colab": {
          "base_uri": "https://localhost:8080/",
          "height": 51
        },
        "outputId": "7b763356-5056-4b04-96e6-4209d77b6536"
      },
      "source": [
        "!pip3 install gym-mr"
      ],
      "execution_count": 23,
      "outputs": [
        {
          "output_type": "stream",
          "text": [
            "\u001b[31mERROR: Could not find a version that satisfies the requirement gym-mr (from versions: none)\u001b[0m\n",
            "\u001b[31mERROR: No matching distribution found for gym-mr\u001b[0m\n"
          ],
          "name": "stdout"
        }
      ]
    },
    {
      "cell_type": "code",
      "metadata": {
        "id": "6RwYWT4Ma2uh",
        "colab_type": "code",
        "colab": {}
      },
      "source": [
        "gym.make('gym_mr:mr-v0')"
      ],
      "execution_count": null,
      "outputs": []
    }
  ]
}